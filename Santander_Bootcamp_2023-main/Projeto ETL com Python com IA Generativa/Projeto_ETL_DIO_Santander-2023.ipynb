{
  "cells": [
    {
      "cell_type": "markdown",
      "metadata": {
        "id": "-mjwEvxZ91fx"
      },
      "source": [
        "<picture> <img align=\"center\" src=\"https://hermes.digitalinnovation.one/assets/diome/logo-full.svg\" width = 150px></picture>\n",
        "\n",
        "**Autor:** RAFAEL ARRUDA \n",
        "\n",
        "**Profissão:** Data Analyst\n",
        "\n",
        "**Bootcamp:** Santander Bootcamp 2023 - Ciência de Dados com Python\n",
        "\n",
        "**Projeto:** Explorando IA Generativa em um Pipeline de ETL com Python"
      ]
    },
    {
      "cell_type": "markdown",
      "metadata": {
        "id": "QDAs0-EPAKdC"
      },
      "source": [
        "**Introdução**\n",
        "\n",
        "O foco deste projeto é aprimorar as habilidades relacionadas à IA Generativa, incluindo o chatbot GPT, com o objetivo de alcançar resultados mais precisos e alinhados com as metas estabelecidas. Uma das bases fundamentais desse projeto é a aplicação de técnicas de ETL (Extração, Transformação e Carregamento). No campo da ciência de dados, o processo ETL desempenha um papel crucial ao coletar informações de uma ou várias fontes, realizar uma limpeza detalhada, transformar os dados de acordo com as necessidades e, por fim, carregar esses dados para seus destinos finais."
      ]
    },
    {
      "cell_type": "markdown",
      "metadata": {
        "id": "I4r6VukLDefp"
      },
      "source": [
        "**Metodologia do Projeto**\n",
        "\n",
        "Seguindo o projeto incial, foi usado o chat GPT-3.5 Turbo.\n",
        "\n",
        "O trabalho é consumir o endpoint GET https://sdw-2023-prd.up.railway.app/users/{id} (API da Santander Dev Week 2023) para obter os dados de cada cliente.\n",
        "Depois de obter os dados dos clientes, você vai usar a API do ChatGPT (OpenAI) para gerar uma mensagem de marketing personalizada para cada cliente. Essa mensagem deve enfatizar a importância dos investimentos.\n",
        "Uma vez que a mensagem para cada cliente esteja pronta, você vai enviar essas informações de volta para a API, atualizando a lista de \"news\" de cada usuário usando o endpoint PUT https://sdw-2023-prd.up.railway.app/users/{id}.\n",
        "\n",
        "\n",
        "A partir deste ponto, começa o processo de ETL propriamente dito.\n",
        "\n",
        "- **Extração:** Base coletada a partir do endpint/ .csv.\n",
        "- **Transformação:**  Tratamento foram executadas. Para a geração de mensagens utilizando a IA Generativa, \n",
        "- **Carregamento:** Transformação das alterações em .csv."
      ]
    },
    {
      "cell_type": "markdown",
      "metadata": {
        "id": "QPBKP9BftaUX"
      },
      "source": [
        "# Extração dos dados"
      ]
    },
    {
      "cell_type": "markdown",
      "metadata": {
        "id": "gYjvsa9ibkG3"
      },
      "source": [
        "**Criação de Tabelas .CSV"
      ]
    },
    {
      "cell_type": "markdown",
      "metadata": {
        "id": "9QKNZY7Ab1KO"
      },
      "source": [
        "Foram criados os USERS  as tabelas no contexto de um banco.\n",
        "\n",
        "Da seguinte forma https://sdw-2023-prd.up.railway.app/ :\n",
        "\n",
        "1. Criaremos a tabela de cadastro de usuários com os seguintes atributos:\n",
        "   - ID\n",
        "   - Nome\n",
        "   - CONTA\n",
        "   - CARD\n",
        "   - SALDO \n",
        "   \n",
        "\n",
        "\n",
        "2. Criar mensagens enviadas com CHATGPT com os seguintes atributos:\n",
        "   - ID (Referente ao usuário)\n",
        "   - # (Referente ao usuário)\n",
        "   - NEWS Anúncio (inicialmente vazio)\n",
        "\n"
      ]
    },
    {
      "cell_type": "code",
      "execution_count": 1,
      "metadata": {
        "id": "9fvW1LkEtstR"
      },
      "outputs": [],
      "source": [
        "# Utilize sua própria URL se quiser ;)\n",
        "# Repositório da API: https://github.com/digitalinnovationone/santander-dev-week-2023-api\n",
        "sdw2023_api_url = 'https://sdw-2023-prd.up.railway.app'"
      ]
    },
    {
      "cell_type": "markdown",
      "metadata": {
        "id": "1lrg7F6642rY"
      },
      "source": [
        "# Extract Data"
      ]
    },
    {
      "cell_type": "code",
      "execution_count": 10,
      "metadata": {
        "colab": {
          "base_uri": "https://localhost:8080/"
        },
        "id": "9E7bl07a8caK",
        "outputId": "c1bf3f4c-96fc-4618-a5ae-29cd588d174f"
      },
      "outputs": [
        {
          "name": "stdout",
          "output_type": "stream",
          "text": [
            "[822, 823, 824]\n"
          ]
        }
      ],
      "source": [
        "\n",
        "import pandas as pd\n",
        "\n",
        "df = pd.read_csv('santander-dados.csv')\n",
        "user_ids = df['UserID'].tolist()\n",
        "print(user_ids)"
      ]
    },
    {
      "cell_type": "code",
      "execution_count": null,
      "metadata": {
        "colab": {
          "base_uri": "https://localhost:8080/"
        },
        "id": "AIR9V5Yq1Uoy",
        "outputId": "5b11c92c-d287-44a6-c191-c7f83dda19c4"
      },
      "outputs": [],
      "source": [
        "import requests\n",
        "import json\n",
        "\n",
        "def get_user(id):\n",
        "  response = requests.get(f'{sdw2023_api_url}/users/{id}')\n",
        "  return response.json() if response.status_code == 200 else None\n",
        "\n",
        "users = [user for id in user_ids if (user := get_user(id)) is not None]\n",
        "print(json.dumps(users, indent=2))"
      ]
    },
    {
      "cell_type": "code",
      "execution_count": null,
      "metadata": {},
      "outputs": [],
      "source": [
        "[\n",
        "  {\n",
        "    \"id\": 822,\n",
        "    \"name\": \"bbabyshark\",\n",
        "    \"account\": {\n",
        "      \"id\": 858,\n",
        "      \"number\": \"666777-1\",\n",
        "      \"agency\": \"0001\",\n",
        "      \"balance\": 0.0,\n",
        "      \"limit\": 0.0\n",
        "    },\n",
        "    \"card\": {\n",
        "      \"id\": 794,\n",
        "      \"number\": \"1234 1234 45678 1111\",\n",
        "      \"limit\": 1000.0\n",
        "    },\n",
        "    \"features\": [],\n",
        "    \"news\": []\n",
        "  },\n",
        "  {\n",
        "    \"id\": 823,\n",
        "    \"name\": \"Pypy\",\n",
        "    \"account\": {\n",
        "      \"id\": 859,\n",
        "      \"number\": \"666777-2\",\n",
        "      \"agency\": \"0001\",\n",
        "      \"balance\": 0.0,\n",
        "      \"limit\": 0.0\n",
        "    },\n",
        "    \"card\": {\n",
        "      \"id\": 795,\n",
        "      \"number\": \"1234 1234 45678 2222\",\n",
        "      \"limit\": 1000.0\n",
        "    },\n",
        "    \"features\": [],\n",
        "    \"news\": []\n",
        "  },\n",
        "  {\n",
        "    \"id\": 824,\n",
        "    \"name\": \"Peterson\",\n",
        "    \"account\": {\n",
        "      \"id\": 860,\n",
        "      \"number\": \"666777-3\",\n",
        "      \"agency\": \"0001\",\n",
        "      \"balance\": 0.0,\n",
        "      \"limit\": 0.0\n",
        "    },\n",
        "    \"card\": {\n",
        "      \"id\": 796,\n",
        "      \"number\": \"1234 1234 45678 3333\",\n",
        "      \"limit\": 1000.0\n",
        "    },\n",
        "    \"features\": [],\n",
        "    \"news\": []\n",
        "  }\n",
        "]"
      ]
    },
    {
      "cell_type": "markdown",
      "metadata": {
        "id": "Q7sqontf5ThS"
      },
      "source": [
        "Transform\n",
        "- Utilizando a API do OpenAI GPT-4 para gerar uma mensagem de marketing personalizada para cada usuário."
      ]
    },
    {
      "cell_type": "code",
      "execution_count": null,
      "metadata": {
        "colab": {
          "base_uri": "https://localhost:8080/",
          "height": 400
        },
        "id": "EBEFQzqWLs1N",
        "outputId": "0b833f22-cdc2-43b3-d64c-a97b003354d6"
      },
      "outputs": [],
      "source": [
        "!pip install openai"
      ]
    },
    {
      "cell_type": "code",
      "execution_count": 11,
      "metadata": {},
      "outputs": [],
      "source": [
        "# Documentação Oficial da API OpenAI: https://platform.openai.com/docs/api-reference/introduction\n",
        "# Informações sobre o Período Gratuito: https://help.openai.com/en/articles/4936830\n",
        "\n",
        "# Para gerar uma API Key:\n",
        "# 1. Crie uma conta na OpenAI\n",
        "# 2. Acesse a seção \"API Keys\"\n",
        "# 3. Clique em \"Create API Key\"\n",
        "# Link direto: https://platform.openai.com/account/api-keys\n",
        "\n",
        "# Substitua o texto TODO por sua API Key da OpenAI, ela será salva como uma variável de ambiente.\n",
        "openai_api_key = '*********************************************************'"
      ]
    },
    {
      "cell_type": "code",
      "execution_count": null,
      "metadata": {},
      "outputs": [],
      "source": [
        "import openai\n",
        "\n",
        "openai.api_key = openai_api_key\n",
        "\n",
        "def generate_ai_news(user):\n",
        "  completion = openai.ChatCompletion.create(\n",
        "    model=\"gpt-3.5-turbo\",\n",
        "    messages=[\n",
        "      {\n",
        "          \"role\": \"system\",\n",
        "          \"content\": \"Você é um especialista em markting bancário.\"\n",
        "      },\n",
        "      {\n",
        "          \"role\": \"user\",\n",
        "          \"content\": f\"Crie uma mensagem para {user['name']} sobre a importância dos investimentos no Santander (máximo de 100 caracteres)\"\n",
        "      }\n",
        "    ]\n",
        "  )\n",
        "  return completion.choices[0].message.content.strip('\\\"')\n",
        "\n",
        "for user in users:\n",
        "  news = generate_ai_news(user)\n",
        "  print(news)\n",
        "  user['news'].append({\n",
        "      \"icon\": \"https://digitalinnovationone.github.io/santander-dev-week-2023-api/icons/credit.svg\",\n",
        "      \"description\": news\n",
        "  })"
      ]
    },
    {
      "cell_type": "code",
      "execution_count": null,
      "metadata": {},
      "outputs": [],
      "source": [
        "Invista no Santander e garanta seu futuro. #BBabySharkReturns\n",
        "Invista no Santander e garanta seu futuro financeiro.\n",
        "Invista no Santander e garanta um futuro financeiro sólido."
      ]
    },
    {
      "cell_type": "markdown",
      "metadata": {
        "id": "jBaFknDm8ihy"
      },
      "source": [
        "# Carregando os Dados\n",
        "-Atualizando a lista de \"news\" de cada usuário na API com a nova mensagem gerada."
      ]
    },
    {
      "cell_type": "code",
      "execution_count": 8,
      "metadata": {
        "id": "Fx9HI9rM8woQ"
      },
      "outputs": [],
      "source": [
        "def update_user(user):\n",
        "  response = requests.put(f\"{sdw2023_api_url}/users/{user['id']}\", json=user)\n",
        "  return True if response.status_code == 200 else False\n",
        "\n",
        "for user in users:\n",
        "  success = update_user(user)\n",
        "  print(f\"User {user['name']} updated? {success}!\")"
      ]
    },
    {
      "cell_type": "code",
      "execution_count": 9,
      "metadata": {
        "colab": {
          "base_uri": "https://localhost:8080/",
          "height": 17
        },
        "id": "mnJr_dGM8q5g",
        "outputId": "ab1d202a-6d66-40f6-af59-7d8b9886a0eb"
      },
      "outputs": [
        {
          "data": {
            "application/javascript": "\n    async function download(id, filename, size) {\n      if (!google.colab.kernel.accessAllowed) {\n        return;\n      }\n      const div = document.createElement('div');\n      const label = document.createElement('label');\n      label.textContent = `Downloading \"${filename}\": `;\n      div.appendChild(label);\n      const progress = document.createElement('progress');\n      progress.max = size;\n      div.appendChild(progress);\n      document.body.appendChild(div);\n\n      const buffers = [];\n      let downloaded = 0;\n\n      const channel = await google.colab.kernel.comms.open(id);\n      // Send a message to notify the kernel that we're ready.\n      channel.send({})\n\n      for await (const message of channel.messages) {\n        // Send a message to notify the kernel that we're ready.\n        channel.send({})\n        if (message.buffers) {\n          for (const buffer of message.buffers) {\n            buffers.push(buffer);\n            downloaded += buffer.byteLength;\n            progress.value = downloaded;\n          }\n        }\n      }\n      const blob = new Blob(buffers, {type: 'application/binary'});\n      const a = document.createElement('a');\n      a.href = window.URL.createObjectURL(blob);\n      a.download = filename;\n      div.appendChild(a);\n      a.click();\n      div.remove();\n    }\n  ",
            "text/plain": [
              "<IPython.core.display.Javascript object>"
            ]
          },
          "metadata": {},
          "output_type": "display_data"
        },
        {
          "data": {
            "application/javascript": "download(\"download_9335b706-42ae-4dc7-8b35-2b58b7c59e48\", \"BD_ETL_Santander2023_modificado.xlsx\", 6707)",
            "text/plain": [
              "<IPython.core.display.Javascript object>"
            ]
          },
          "metadata": {},
          "output_type": "display_data"
        }
      ],
      "source": [
        "User bbabyshark updated? True!\n",
        "User Pypy updated? True!\n",
        "User Peterson updated? True!"
      ]
    }
  ],
  "metadata": {
    "colab": {
      "collapsed_sections": [
        "QPBKP9BftaUX"
      ],
      "provenance": []
    },
    "kernelspec": {
      "display_name": "Python 3",
      "name": "python3"
    },
    "language_info": {
      "codemirror_mode": {
        "name": "ipython",
        "version": 3
      },
      "file_extension": ".py",
      "mimetype": "text/x-python",
      "name": "python",
      "nbconvert_exporter": "python",
      "pygments_lexer": "ipython3",
      "version": "3.11.4"
    }
  },
  "nbformat": 4,
  "nbformat_minor": 0
}
